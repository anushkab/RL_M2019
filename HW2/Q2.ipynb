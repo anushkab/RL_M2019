{
 "cells": [
  {
   "cell_type": "code",
   "execution_count": 133,
   "metadata": {},
   "outputs": [],
   "source": [
    "import numpy as np"
   ]
  },
  {
   "cell_type": "code",
   "execution_count": 134,
   "metadata": {},
   "outputs": [],
   "source": [
    "#Initialsing the grid parameters:\n",
    "size=5\n",
    "df=1 #The discount Factor\n",
    "deterministic_policy=[0.25,0.25,0.25,0.25] #Equal for left , up, right and down\n",
    "Actions=[np.array([0, -1]),np.array([0, 1]),np.array([1, 0]),np.array([-1,0 ])]"
   ]
  },
  {
   "cell_type": "code",
   "execution_count": 137,
   "metadata": {},
   "outputs": [],
   "source": [
    "val_map=np.zeros((self.size,self.size))\n",
    "def take_step(state, action):\n",
    "    if (state==A).all():\n",
    "        return A_prime,10\n",
    "    elif (state==B).all():\n",
    "        return B_prime,5\n",
    "    else:\n",
    "        next_state = state + action\n",
    "        if next_state[0]>=size or next_state[0]<0 or next_state[1]>=size or next_state[1]<0:\n",
    "            return state,-1\n",
    "        else:\n",
    "            return next_state, 0\n",
    "def get_1D_index(state):\n",
    "    return state[1]+(size*state[0])\n",
    "\n",
    "matrix_A,matrix_B=np.identity(states_count),np.zeros((states_count))\n",
    "for i in range(size):\n",
    "    for j in range(size):\n",
    "        curr_state=np.array([i,j])\n",
    "        index_state_1D=get_1D_index(curr_state)\n",
    "        for a in Actions:\n",
    "            next_state,reward=take_step(curr_state,a)\n",
    "            index_new_state_1D=get_1D_index(next_state)\n",
    "            matrix_B[index_state_1D]+=0.25*reward # since policy is 0.25 for all actions\n",
    "            matrix_A[index_state_1D,index_new_state_1D]-=0.25*df\n",
    "X=np.linalg.solve(matrix_A, matrix_B)\n",
    "value_map=np.round(X.reshape((size,size)),decimals=1)"
   ]
  },
  {
   "cell_type": "code",
   "execution_count": 138,
   "metadata": {},
   "outputs": [
    {
     "name": "stdout",
     "output_type": "stream",
     "text": [
      "[[ 3.3  8.8  4.4  5.3  1.5]\n",
      " [ 1.5  3.   2.3  1.9  0.5]\n",
      " [ 0.1  0.7  0.7  0.4 -0.4]\n",
      " [-1.  -0.4 -0.4 -0.6 -1.2]\n",
      " [-1.9 -1.3 -1.2 -1.4 -2. ]]\n"
     ]
    }
   ],
   "source": [
    "print(value_map)"
   ]
  },
  {
   "cell_type": "code",
   "execution_count": null,
   "metadata": {},
   "outputs": [],
   "source": []
  },
  {
   "cell_type": "code",
   "execution_count": null,
   "metadata": {},
   "outputs": [],
   "source": []
  },
  {
   "cell_type": "code",
   "execution_count": null,
   "metadata": {
    "scrolled": true
   },
   "outputs": [],
   "source": []
  },
  {
   "cell_type": "code",
   "execution_count": null,
   "metadata": {},
   "outputs": [],
   "source": []
  },
  {
   "cell_type": "code",
   "execution_count": null,
   "metadata": {},
   "outputs": [],
   "source": []
  },
  {
   "cell_type": "code",
   "execution_count": null,
   "metadata": {},
   "outputs": [],
   "source": []
  },
  {
   "cell_type": "code",
   "execution_count": null,
   "metadata": {},
   "outputs": [],
   "source": []
  },
  {
   "cell_type": "code",
   "execution_count": null,
   "metadata": {},
   "outputs": [],
   "source": []
  },
  {
   "cell_type": "code",
   "execution_count": null,
   "metadata": {},
   "outputs": [],
   "source": []
  },
  {
   "cell_type": "code",
   "execution_count": null,
   "metadata": {},
   "outputs": [],
   "source": []
  },
  {
   "cell_type": "code",
   "execution_count": null,
   "metadata": {},
   "outputs": [],
   "source": []
  },
  {
   "cell_type": "code",
   "execution_count": null,
   "metadata": {},
   "outputs": [],
   "source": []
  },
  {
   "cell_type": "code",
   "execution_count": null,
   "metadata": {},
   "outputs": [],
   "source": []
  },
  {
   "cell_type": "code",
   "execution_count": null,
   "metadata": {},
   "outputs": [],
   "source": []
  },
  {
   "cell_type": "code",
   "execution_count": null,
   "metadata": {},
   "outputs": [],
   "source": []
  },
  {
   "cell_type": "code",
   "execution_count": null,
   "metadata": {},
   "outputs": [],
   "source": []
  },
  {
   "cell_type": "code",
   "execution_count": null,
   "metadata": {},
   "outputs": [],
   "source": []
  },
  {
   "cell_type": "code",
   "execution_count": null,
   "metadata": {},
   "outputs": [],
   "source": []
  }
 ],
 "metadata": {
  "kernelspec": {
   "display_name": "Python 3",
   "language": "python",
   "name": "python3"
  },
  "language_info": {
   "codemirror_mode": {
    "name": "ipython",
    "version": 2
   },
   "file_extension": ".py",
   "mimetype": "text/x-python",
   "name": "python",
   "nbconvert_exporter": "python",
   "pygments_lexer": "ipython2",
   "version": "2.7.15+"
  }
 },
 "nbformat": 4,
 "nbformat_minor": 2
}
