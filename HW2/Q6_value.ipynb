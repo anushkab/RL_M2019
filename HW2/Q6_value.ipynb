{
 "cells": [
  {
   "cell_type": "code",
   "execution_count": 32,
   "metadata": {},
   "outputs": [],
   "source": [
    "import numpy as np\n",
    "from scipy.optimize import linprog\n"
   ]
  },
  {
   "cell_type": "code",
   "execution_count": 33,
   "metadata": {},
   "outputs": [],
   "source": [
    "#Initialsing the grid parameters:\n",
    "size=4\n",
    "threshold=4e-6\n",
    "df=0.9 #The discount Factor\n",
    "deterministic_policy=[0.25,0.25,0.25,0.25] #Equal for left , up, right and down\n",
    "Actions=[np.array([1,0]),np.array([0, 1]),np.array([-1, 0]),np.array([0,-1 ])]"
   ]
  },
  {
   "cell_type": "code",
   "execution_count": 34,
   "metadata": {},
   "outputs": [],
   "source": [
    "def take_step(state, action):\n",
    "    if (state[0]==0 and state[1]==0 )or(state[1]==4 and state[1]==4):\n",
    "        return state,0\n",
    "    else:\n",
    "        next_state = state + action\n",
    "        if next_state[0]>=size or next_state[0]<0 or next_state[1]>=size or next_state[1]<0:\n",
    "            return state,-1\n",
    "        else:\n",
    "            return next_state, 0\n",
    "value_map=np.zeros((size,size))\n",
    "while True:\n",
    "    delta=0\n",
    "    for i in range(size):\n",
    "        for j in range(size):\n",
    "            awards={}\n",
    "            curr_state=np.array([i,j])\n",
    "            old_val_map=value_map.copy()\n",
    "            n=0\n",
    "            for a in Actions:\n",
    "                next_state,reward=take_step(curr_state,a)\n",
    "                var=reward + (df* value_map[next_state[0],next_state[1]])\n",
    "                awards[n]=np.round(var,decimals=2)\n",
    "                n+=1\n",
    "            max_award=max(awards.values())\n",
    "            diff=np.abs(old_val_map[i,j]-max_award)\n",
    "            delta=max(delta,diff)\n",
    "            value_map[i,j]=max_award\n",
    "    if delta<threshold:\n",
    "        break\n",
    "\n",
    "optimal_policy_map = np.empty((size,size), object)\n",
    "for i in range(size):\n",
    "    for j in range(size):\n",
    "        awards={}\n",
    "        curr_state=np.array([i,j])\n",
    "        n=0\n",
    "        for a in Actions:\n",
    "            next_state,reward=take_step(curr_state,a)\n",
    "            var=reward + (df* value_map[next_state[0],next_state[1]])\n",
    "            awards[n]=np.round(var,decimals=2)\n",
    "            n+=1\n",
    "        max_award = np.max(list(awards.values()))\n",
    "        optimal_actions = []\n",
    "        m=0\n",
    "        for l in awards:\n",
    "            if l==max_award:\n",
    "                optimal_actions.append(m)\n",
    "                m+=1\n",
    "        optimal_policy_map[i, j]=optimal_actions"
   ]
  },
  {
   "cell_type": "code",
   "execution_count": 9,
   "metadata": {},
   "outputs": [
    {
     "name": "stdout",
     "output_type": "stream",
     "text": [
      "[[ 0. -1. -2. -3.]\n",
      " [-1. -2. -3. -2.]\n",
      " [-2. -3. -2. -1.]\n",
      " [-3. -2. -1.  0.]]\n"
     ]
    }
   ],
   "source": [
    "print(value_map)"
   ]
  },
  {
   "cell_type": "code",
   "execution_count": null,
   "metadata": {},
   "outputs": [],
   "source": []
  },
  {
   "cell_type": "code",
   "execution_count": 41,
   "metadata": {},
   "outputs": [],
   "source": []
  },
  {
   "cell_type": "code",
   "execution_count": 42,
   "metadata": {},
   "outputs": [
    {
     "name": "stdout",
     "output_type": "stream",
     "text": [
      "[[list([3, 1, 2, 0]) list([0]) list([0]) list([3, 0])]\n",
      " [list([2]) list([2, 0]) list([3, 1, 2, 0]) list([3])]\n",
      " [list([2]) list([3, 1, 2, 0]) list([3, 1]) list([3])]\n",
      " [list([1, 2]) list([1]) list([1]) list([3, 1, 2, 0])]]\n",
      "['down', 'right', 'up', 'left']\n",
      "['left']\n",
      "['left']\n",
      "['down', 'left']\n",
      "()\n",
      "['up']\n",
      "['up', 'left']\n",
      "['down', 'right', 'up', 'left']\n",
      "['down']\n",
      "()\n",
      "['up']\n",
      "['down', 'right', 'up', 'left']\n",
      "['down', 'right']\n",
      "['down']\n",
      "()\n",
      "['right', 'up']\n",
      "['right']\n",
      "['right']\n",
      "['down', 'right', 'up', 'left']\n",
      "()\n"
     ]
    }
   ],
   "source": [
    "print(optimal_policy_map)\n",
    "for i in range(size):\n",
    "    for j in range(size):\n",
    "        P=[]\n",
    "        l=optimal_policy_map[i][j]\n",
    "        for k in l:\n",
    "            if k==0:\n",
    "                P.append(\"left\")\n",
    "            if k==1:\n",
    "                P.append(\"right\")\n",
    "            if k==2:\n",
    "                P.append(\"up\")\n",
    "            if k==3:\n",
    "                P.append(\"down\")\n",
    "        print(P)\n",
    "    print()\n"
   ]
  },
  {
   "cell_type": "code",
   "execution_count": null,
   "metadata": {},
   "outputs": [],
   "source": []
  },
  {
   "cell_type": "code",
   "execution_count": null,
   "metadata": {},
   "outputs": [],
   "source": []
  }
 ],
 "metadata": {
  "kernelspec": {
   "display_name": "Python 3",
   "language": "python",
   "name": "python3"
  },
  "language_info": {
   "codemirror_mode": {
    "name": "ipython",
    "version": 2
   },
   "file_extension": ".py",
   "mimetype": "text/x-python",
   "name": "python",
   "nbconvert_exporter": "python",
   "pygments_lexer": "ipython2",
   "version": "2.7.15+"
  }
 },
 "nbformat": 4,
 "nbformat_minor": 2
}
