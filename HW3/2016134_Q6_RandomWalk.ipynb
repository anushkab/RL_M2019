{
 "cells": [
  {
   "cell_type": "code",
   "execution_count": 185,
   "metadata": {
    "colab": {},
    "colab_type": "code",
    "id": "HcwB14-PNq-A"
   },
   "outputs": [],
   "source": [
    "import numpy as np\n",
    "import matplotlib.pyplot as plt\n",
    "%matplotlib inline\n",
    "\n",
    "from sklearn.metrics import mean_squared_error\n",
    "from math import sqrt"
   ]
  },
  {
   "cell_type": "code",
   "execution_count": 186,
   "metadata": {
    "colab": {},
    "colab_type": "code",
    "id": "ytqQ5355Nq-E"
   },
   "outputs": [],
   "source": [
    "#true values \n",
    "true_val = np.arange(1,6)/6.0\n"
   ]
  },
  {
   "cell_type": "code",
   "execution_count": 187,
   "metadata": {
    "colab": {},
    "colab_type": "code",
    "id": "tq9Wft7ENq-I"
   },
   "outputs": [],
   "source": [
    "def TD( state_val, alpha):\n",
    "    \n",
    "    #start from C\n",
    "    state = 3\n",
    "    while True:\n",
    "        #terminal states \n",
    "        if state == 0 or state == 6:\n",
    "            break\n",
    "        \n",
    "        action = np.random.binomial(1, 0.5)\n",
    "        if action == 0:\n",
    "            action = -1\n",
    "            \n",
    "        new_state = state + action\n",
    "        \n",
    "        #rewards\n",
    "        if new_state == 6:\n",
    "            reward = 1\n",
    "        else:\n",
    "            reward = 0 \n",
    "        \n",
    "        #update\n",
    "        state_val[state] += alpha * (reward + state_val[new_state] - state_val[state])\n",
    "        \n",
    "        state = new_state\n",
    "    return state_val"
   ]
  },
  {
   "cell_type": "code",
   "execution_count": 188,
   "metadata": {
    "colab": {},
    "colab_type": "code",
    "id": "AIzGIe59Nq-M"
   },
   "outputs": [],
   "source": [
    "def MC(state_val, alpha):\n",
    "    \n",
    "    #start from C\n",
    "    state = 3\n",
    "    traj = []\n",
    "    traj.append(state)\n",
    "    while True:\n",
    "        action = np.random.binomial(1, 0.5)\n",
    "        if action == 0:\n",
    "            action = -1\n",
    "            \n",
    "        new_state = state + action\n",
    "        \n",
    "        state = new_state\n",
    "        traj.append(state)\n",
    "        if state == 0:\n",
    "            returns = 0\n",
    "            break\n",
    "        elif state == 6:\n",
    "            returns = 1\n",
    "            break\n",
    "    for i in traj[:-1]:\n",
    "        state_val[i] += alpha * (returns - state_val[i])\n",
    "\n",
    "    return state_val"
   ]
  },
  {
   "cell_type": "code",
   "execution_count": 190,
   "metadata": {
    "colab": {},
    "colab_type": "code",
    "id": "eclckdA3Nq-Q",
    "outputId": "7ca03b01-2e67-4781-a0df-adc71f3d4985"
   },
   "outputs": [
    {
     "data": {
      "text/plain": [
       "<matplotlib.legend.Legend at 0x7f6ad698ead0>"
      ]
     },
     "execution_count": 190,
     "metadata": {},
     "output_type": "execute_result"
    },
    {
     "data": {
      "image/png": "[encoded data removed]",
      "text/plain": [
       "<Figure size 432x288 with 1 Axes>"
      ]
     },
     "metadata": {
      "needs_background": "light"
     },
     "output_type": "display_data"
    }
   ],
   "source": [
    "\n",
    "\n",
    "val_1 = np.zeros(7) #\n",
    "val_10 = np.zeros(7) #\n",
    "val_0 = np.zeros(7) #\n",
    "val_100 = np.zeros(7) #\n",
    "\n",
    "for i in range(1):\n",
    "    val_0 = TD(val_0, 0.1)\n",
    "    \n",
    "\n",
    "for i in range(1):\n",
    "    val_1 = TD(val_1, 0.1)\n",
    "    \n",
    "for i in range(10):\n",
    "    val_10 = TD(val_10, 0.1)\n",
    "    \n",
    "for i in range(100):\n",
    "    val_100 = TD(val_100, 0.1)\n",
    "    \n",
    "plt.plot(val_0[1:6] , label = \"0 run\")\n",
    "plt.plot(val_1[1:6], label = \"1 run\")\n",
    "plt.plot(val_10[1:6], label = \"10 runs\")\n",
    "plt.plot(val_100[1:6], label = \"100 runs\")\n",
    "plt.plot(true_val, label = \"True values\")\n",
    "plt.legend()"
   ]
  },
  {
   "cell_type": "code",
   "execution_count": 191,
   "metadata": {
    "colab": {},
    "colab_type": "code",
    "id": "g1cvn6LxNq-V"
   },
   "outputs": [],
   "source": [
    "def rmse(true, compare):\n",
    "    return sqrt(mean_squared_error(true, compare))"
   ]
  },
  {
   "cell_type": "code",
   "execution_count": 192,
   "metadata": {
    "colab": {},
    "colab_type": "code",
    "id": "fVtAjVlSNq-Z"
   },
   "outputs": [],
   "source": [
    "mse_05 = []\n",
    "state_values = np.zeros(7)\n",
    "state_values[1:6] += 0.5\n",
    "for i in range(100):\n",
    "    state_values = TD(state_values, 0.05)\n",
    "    mse_val = rmse(true_val, state_values[1:6])\n",
    "    #print(mse_val)\n",
    "    mse_05.append(mse_val)"
   ]
  },
  {
   "cell_type": "code",
   "execution_count": 193,
   "metadata": {
    "colab": {},
    "colab_type": "code",
    "id": "MzTcDNWXNq-d"
   },
   "outputs": [],
   "source": [
    "mse_15 = []\n",
    "state_values = np.zeros(7)\n",
    "state_values[1:6] += 0.5\n",
    "for i in range(100):\n",
    "    state_values = TD(state_values, 0.15)\n",
    "    mse_val = rmse(true_val, state_values[1:6])\n",
    "    #print(mse_val)\n",
    "    mse_15.append(mse_val)"
   ]
  },
  {
   "cell_type": "code",
   "execution_count": 194,
   "metadata": {
    "colab": {},
    "colab_type": "code",
    "id": "703jfcO7Nq-g"
   },
   "outputs": [],
   "source": [
    "mse_1 = []\n",
    "state_values = np.zeros(7)\n",
    "state_values[1:6] += 0.5\n",
    "for i in range(100):\n",
    "    state_values = TD(state_values, 0.1)\n",
    "    mse_val = rmse(true_val, state_values[1:6])\n",
    "    #print(mse_val)\n",
    "    mse_1.append(mse_val)"
   ]
  },
  {
   "cell_type": "code",
   "execution_count": 195,
   "metadata": {
    "colab": {},
    "colab_type": "code",
    "id": "ykT37NwnNq-l"
   },
   "outputs": [],
   "source": [
    "mc_1_avg = np.zeros(100)\n",
    "for k in range(100):\n",
    "    mse_mc1 = []\n",
    "    state_values = np.zeros(7)\n",
    "    state_values[1:6] += 0.5\n",
    "    for i in range(100):\n",
    "        state_values = MC(state_values, 0.01)\n",
    "        mse_val = rmse(true_val, state_values[1:6])\n",
    "        #print(mse_val)\n",
    "        mse_mc1.append(mse_val)\n",
    "    mse_mc1 = np.array(mse_mc1)\n",
    "    mc_1_avg = np.add(mc_1_avg, mse_mc1)"
   ]
  },
  {
   "cell_type": "code",
   "execution_count": 196,
   "metadata": {
    "colab": {},
    "colab_type": "code",
    "id": "F8_31u31Nq-q"
   },
   "outputs": [],
   "source": [
    "mc_2_avg = np.zeros(100)\n",
    "for k in range(100):\n",
    "    mse_mc1 = []\n",
    "    state_values = np.zeros(7)\n",
    "    state_values[1:6] += 0.5\n",
    "    for i in range(100):\n",
    "        state_values = MC(state_values, 0.02)\n",
    "        mse_val = rmse(true_val, state_values[1:6])\n",
    "        #print(mse_val)\n",
    "        mse_mc1.append(mse_val)\n",
    "    mse_mc1 = np.array(mse_mc1)\n",
    "    mc_2_avg = np.add(mc_2_avg, mse_mc1)"
   ]
  },
  {
   "cell_type": "code",
   "execution_count": 197,
   "metadata": {
    "colab": {},
    "colab_type": "code",
    "id": "A7ThuLTlNq-u"
   },
   "outputs": [],
   "source": [
    "mc_3_avg = np.zeros(100)\n",
    "for k in range(100):\n",
    "    mse_mc1 = []\n",
    "    state_values = np.zeros(7)\n",
    "    state_values[1:6] += 0.5\n",
    "    for i in range(100):\n",
    "        state_values = MC(state_values, 0.03)\n",
    "        mse_val = rmse(true_val, state_values[1:6])\n",
    "        #print(mse_val)\n",
    "        mse_mc1.append(mse_val)\n",
    "    mse_mc1 = np.array(mse_mc1)\n",
    "    mc_3_avg = np.add(mc_3_avg, mse_mc1)"
   ]
  },
  {
   "cell_type": "code",
   "execution_count": 198,
   "metadata": {
    "colab": {},
    "colab_type": "code",
    "id": "xiOTZ3OMNq-x"
   },
   "outputs": [],
   "source": [
    "mc_4_avg = np.zeros(100)\n",
    "for k in range(100):\n",
    "    mse_mc1 = []\n",
    "    state_values = np.zeros(7)\n",
    "    state_values[1:6] += 0.5\n",
    "    for i in range(100):\n",
    "        state_values = MC(state_values, 0.04)\n",
    "        mse_val = rmse(true_val, state_values[1:6])\n",
    "        #print(mse_val)\n",
    "        mse_mc1.append(mse_val)\n",
    "    mse_mc1 = np.array(mse_mc1)\n",
    "    mc_4_avg = np.add(mc_4_avg, mse_mc1)"
   ]
  },
  {
   "cell_type": "code",
   "execution_count": 199,
   "metadata": {
    "colab": {},
    "colab_type": "code",
    "id": "Jewc5j60Nq-0"
   },
   "outputs": [],
   "source": [
    "mc_1_avg = mc_1_avg/100\n",
    "mc_2_avg = mc_2_avg/100\n",
    "mc_3_avg = mc_3_avg/100\n",
    "mc_4_avg = mc_4_avg/100"
   ]
  },
  {
   "cell_type": "code",
   "execution_count": 200,
   "metadata": {
    "colab": {},
    "colab_type": "code",
    "id": "xCdBlqWxNq-3",
    "outputId": "3abb3ad5-5ba6-47d6-ce89-acbac809b4c7"
   },
   "outputs": [
    {
     "data": {
      "text/plain": [
       "<matplotlib.legend.Legend at 0x7f6ad693c610>"
      ]
     },
     "execution_count": 200,
     "metadata": {},
     "output_type": "execute_result"
    },
    {
     "data": {
      "image/png": "[encoded data removed]",
      "text/plain": [
       "<Figure size 432x288 with 1 Axes>"
      ]
     },
     "metadata": {
      "needs_background": "light"
     },
     "output_type": "display_data"
    }
   ],
   "source": [
    "plt.plot(mse_1 , label = \"TD 0.1\")\n",
    "plt.plot(mse_05, label = \"TD 0.05\")\n",
    "plt.plot(mse_15, label = \"TD 0.15\")\n",
    "plt.plot(mc_1_avg, label = \"MC 0.01\")\n",
    "plt.plot(mc_2_avg, label = \"MC 0.02\")\n",
    "plt.plot(mc_3_avg, label = \"MC 0.03\")\n",
    "plt.plot(mc_4_avg, label = \"MC 0.04\")\n",
    "plt.legend()"
   ]
  },
  {
   "cell_type": "code",
   "execution_count": null,
   "metadata": {
    "colab": {},
    "colab_type": "code",
    "id": "YmO9pjGrNq-7"
   },
   "outputs": [],
   "source": []
  },
  {
   "cell_type": "code",
   "execution_count": null,
   "metadata": {},
   "outputs": [],
   "source": []
  },
  {
   "cell_type": "code",
   "execution_count": null,
   "metadata": {},
   "outputs": [],
   "source": []
  },
  {
   "cell_type": "code",
   "execution_count": null,
   "metadata": {},
   "outputs": [],
   "source": []
  },
  {
   "cell_type": "code",
   "execution_count": null,
   "metadata": {},
   "outputs": [],
   "source": []
  },
  {
   "cell_type": "code",
   "execution_count": null,
   "metadata": {},
   "outputs": [],
   "source": []
  },
  {
   "cell_type": "code",
   "execution_count": null,
   "metadata": {},
   "outputs": [],
   "source": []
  },
  {
   "cell_type": "code",
   "execution_count": null,
   "metadata": {},
   "outputs": [],
   "source": []
  },
  {
   "cell_type": "code",
   "execution_count": null,
   "metadata": {},
   "outputs": [],
   "source": []
  },
  {
   "cell_type": "code",
   "execution_count": null,
   "metadata": {},
   "outputs": [],
   "source": []
  },
  {
   "cell_type": "code",
   "execution_count": null,
   "metadata": {},
   "outputs": [],
   "source": []
  },
  {
   "cell_type": "code",
   "execution_count": null,
   "metadata": {},
   "outputs": [],
   "source": []
  },
  {
   "cell_type": "code",
   "execution_count": null,
   "metadata": {},
   "outputs": [],
   "source": []
  },
  {
   "cell_type": "code",
   "execution_count": null,
   "metadata": {},
   "outputs": [],
   "source": []
  },
  {
   "cell_type": "code",
   "execution_count": null,
   "metadata": {},
   "outputs": [],
   "source": []
  },
  {
   "cell_type": "code",
   "execution_count": null,
   "metadata": {},
   "outputs": [],
   "source": []
  },
  {
   "cell_type": "code",
   "execution_count": null,
   "metadata": {},
   "outputs": [],
   "source": []
  },
  {
   "cell_type": "code",
   "execution_count": null,
   "metadata": {},
   "outputs": [],
   "source": []
  },
  {
   "cell_type": "code",
   "execution_count": null,
   "metadata": {},
   "outputs": [],
   "source": []
  },
  {
   "cell_type": "code",
   "execution_count": null,
   "metadata": {},
   "outputs": [],
   "source": []
  },
  {
   "cell_type": "code",
   "execution_count": null,
   "metadata": {},
   "outputs": [],
   "source": [
    "\n",
    "\n",
    "\n",
    "\n",
    "\n",
    "\n"
   ]
  },
  {
   "cell_type": "code",
   "execution_count": null,
   "metadata": {},
   "outputs": [],
   "source": []
  },
  {
   "cell_type": "code",
   "execution_count": null,
   "metadata": {},
   "outputs": [],
   "source": []
  },
  {
   "cell_type": "code",
   "execution_count": null,
   "metadata": {},
   "outputs": [],
   "source": []
  },
  {
   "cell_type": "code",
   "execution_count": null,
   "metadata": {},
   "outputs": [],
   "source": []
  },
  {
   "cell_type": "code",
   "execution_count": null,
   "metadata": {},
   "outputs": [],
   "source": []
  },
  {
   "cell_type": "code",
   "execution_count": null,
   "metadata": {},
   "outputs": [],
   "source": []
  },
  {
   "cell_type": "code",
   "execution_count": null,
   "metadata": {},
   "outputs": [],
   "source": []
  },
  {
   "cell_type": "code",
   "execution_count": null,
   "metadata": {},
   "outputs": [],
   "source": []
  },
  {
   "cell_type": "code",
   "execution_count": null,
   "metadata": {},
   "outputs": [],
   "source": []
  },
  {
   "cell_type": "code",
   "execution_count": null,
   "metadata": {},
   "outputs": [],
   "source": []
  },
  {
   "cell_type": "code",
   "execution_count": null,
   "metadata": {},
   "outputs": [],
   "source": []
  },
  {
   "cell_type": "code",
   "execution_count": null,
   "metadata": {},
   "outputs": [],
   "source": []
  },
  {
   "cell_type": "code",
   "execution_count": null,
   "metadata": {},
   "outputs": [],
   "source": []
  }
 ],
 "metadata": {
  "anaconda-cloud": {},
  "colab": {
   "name": "Random Walk Question 6.ipynb",
   "provenance": []
  },
  "kernelspec": {
   "display_name": "Python 3",
   "language": "python",
   "name": "python3"
  },
  "language_info": {
   "codemirror_mode": {
    "name": "ipython",
    "version": 2
   },
   "file_extension": ".py",
   "mimetype": "text/x-python",
   "name": "python",
   "nbconvert_exporter": "python",
   "pygments_lexer": "ipython2",
   "version": "2.7.15+"
  }
 },
 "nbformat": 4,
 "nbformat_minor": 1
}
