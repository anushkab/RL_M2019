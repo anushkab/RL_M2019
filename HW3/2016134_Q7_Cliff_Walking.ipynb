{
 "cells": [
  {
   "cell_type": "code",
   "execution_count": 40,
   "metadata": {},
   "outputs": [],
   "source": [
    "import numpy as np\n",
    "import pandas as pd\n",
    "import matplotlib.pyplot as plt \n",
    "from collections import defaultdict\n",
    "%matplotlib inline"
   ]
  },
  {
   "cell_type": "code",
   "execution_count": 41,
   "metadata": {},
   "outputs": [],
   "source": [
    "def step(act, current):\n",
    "        \n",
    "    if act == 0: #UP\n",
    "        if current in list(range(0,12)):\n",
    "            state = current\n",
    "        else:\n",
    "            state = current - 12\n",
    "            \n",
    "    if act == 1: #RIGHT\n",
    "        if current in [11,23,35]:\n",
    "            state = current\n",
    "        else:\n",
    "            state = current+ 1\n",
    "    if act == 2: #down\n",
    "        if current in list(range(36,48)):\n",
    "            state = current\n",
    "        else:\n",
    "            state = current + 12\n",
    "    if act == 3: #left\n",
    "        if current in [0,12,24,36]:\n",
    "            state = current\n",
    "        else:\n",
    "            state = current -1\n",
    "    if state in list(range(37,48)):\n",
    "        if state == 47:\n",
    "            reward = -1\n",
    "            done = True\n",
    "        else:\n",
    "            done = False\n",
    "            state = 36\n",
    "            reward = -100\n",
    "    else:\n",
    "        done = False\n",
    "        reward = -1\n",
    "    return state, reward, done"
   ]
  },
  {
   "cell_type": "code",
   "execution_count": 42,
   "metadata": {},
   "outputs": [],
   "source": [
    "def reset():\n",
    "    return 36"
   ]
  },
  {
   "cell_type": "code",
   "execution_count": 43,
   "metadata": {},
   "outputs": [],
   "source": [
    "def eps_greedy(Q,state,epsilon):\n",
    "    if np.random.random_sample() >= epsilon:\n",
    "        return np.argmax(Q[state])\n",
    "    else:\n",
    "        return np.random.randint(0, 4)"
   ]
  },
  {
   "cell_type": "code",
   "execution_count": 44,
   "metadata": {},
   "outputs": [],
   "source": [
    "def TD(algo, alpha, episodes, epsilon, gamma ):\n",
    "    #algo : Q for Q learning\n",
    "    #S for Sarsa\n",
    "    \n",
    "    Q = defaultdict(lambda: np.zeros(4))\n",
    "    rew_sum = []\n",
    "    for i in range(episodes):\n",
    "        rewards = []\n",
    "        #first step \n",
    "        observation = reset()\n",
    "        for k in range(1000):\n",
    "            action = eps_greedy(Q, observation, epsilon)\n",
    "            #print(\"action:\",action)\n",
    "            next_obs, reward, done= step(action, observation)\n",
    "            if algo == \"Q\":\n",
    "                Q[observation][action] += alpha*(reward + gamma* np.max(Q[next_obs]) - Q[observation][action])\n",
    "            elif algo == \"S\":\n",
    "                new_action = eps_greedy(Q, next_obs, epsilon)\n",
    "                Q[observation][action] += alpha*(reward + gamma* Q[next_obs][new_action] - Q[observation][action])\n",
    "            \n",
    "            observation = next_obs\n",
    "            rewards.append(reward)\n",
    "            \n",
    "            if done == True:\n",
    "                break\n",
    "                \n",
    "        rew_sum.append(np.sum(rewards))\n",
    "    \n",
    "    return rew_sum"
   ]
  },
  {
   "cell_type": "code",
   "execution_count": 65,
   "metadata": {
    "scrolled": false
   },
   "outputs": [],
   "source": [
    "sum_Q= TD(\"Q\",0.1, 500,0.1, 0.4)\n",
    "sum_sarsa= TD(\"S\",0.1, 500,0.1, 0.9)"
   ]
  },
  {
   "cell_type": "code",
   "execution_count": 66,
   "metadata": {},
   "outputs": [],
   "source": [
    "#taken from stackoverflow to smooth the plots\n",
    "smooth_q = pd.Series(sum_Q).rolling(10, min_periods=10).mean()\n",
    "smooth_sarsa = pd.Series(sum_sarsa).rolling(10, min_periods=10).mean()"
   ]
  },
  {
   "cell_type": "code",
   "execution_count": 67,
   "metadata": {},
   "outputs": [
    {
     "data": {
      "text/plain": [
       "<matplotlib.legend.Legend at 0x7f76851f3650>"
      ]
     },
     "execution_count": 67,
     "metadata": {},
     "output_type": "execute_result"
    },
    {
     "data": {
      "image/png": "[encoded data removed]",
      "text/plain": [
       "<Figure size 432x288 with 1 Axes>"
      ]
     },
     "metadata": {
      "needs_background": "light"
     },
     "output_type": "display_data"
    }
   ],
   "source": [
    "plt.plot(smooth_q, label = \"Q Learning\")\n",
    "plt.plot(smooth_sarsa, label = \"Sarsa\")\n",
    "plt.legend()"
   ]
  },
  {
   "cell_type": "code",
   "execution_count": null,
   "metadata": {},
   "outputs": [],
   "source": []
  },
  {
   "cell_type": "code",
   "execution_count": null,
   "metadata": {},
   "outputs": [],
   "source": []
  },
  {
   "cell_type": "code",
   "execution_count": null,
   "metadata": {},
   "outputs": [],
   "source": []
  },
  {
   "cell_type": "code",
   "execution_count": null,
   "metadata": {},
   "outputs": [],
   "source": []
  },
  {
   "cell_type": "code",
   "execution_count": null,
   "metadata": {},
   "outputs": [],
   "source": []
  },
  {
   "cell_type": "code",
   "execution_count": null,
   "metadata": {},
   "outputs": [],
   "source": []
  },
  {
   "cell_type": "code",
   "execution_count": null,
   "metadata": {},
   "outputs": [],
   "source": []
  },
  {
   "cell_type": "code",
   "execution_count": null,
   "metadata": {},
   "outputs": [],
   "source": []
  },
  {
   "cell_type": "code",
   "execution_count": null,
   "metadata": {},
   "outputs": [],
   "source": []
  },
  {
   "cell_type": "code",
   "execution_count": null,
   "metadata": {},
   "outputs": [],
   "source": []
  }
 ],
 "metadata": {
  "anaconda-cloud": {},
  "kernelspec": {
   "display_name": "Python 3",
   "language": "python",
   "name": "python3"
  },
  "language_info": {
   "codemirror_mode": {
    "name": "ipython",
    "version": 2
   },
   "file_extension": ".py",
   "mimetype": "text/x-python",
   "name": "python",
   "nbconvert_exporter": "python",
   "pygments_lexer": "ipython2",
   "version": "2.7.15+"
  }
 },
 "nbformat": 4,
 "nbformat_minor": 2
}
